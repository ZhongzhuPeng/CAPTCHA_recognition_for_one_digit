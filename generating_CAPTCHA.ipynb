{
 "cells": [
  {
   "cell_type": "code",
   "execution_count": 3,
   "metadata": {},
   "outputs": [],
   "source": [
    "from captcha.image import ImageCaptcha\n",
    "import matplotlib.pyplot as plt\n",
    "import string\n",
    "import random\n",
    "import numpy as np\n",
    "\n",
    "def generate(width,height,num_char):\n",
    "    characters = string.digits + string.ascii_uppercase\n",
    "    rand_str = ''.join(random.sample(characters,num_char))\n",
    "    generator = ImageCaptcha(width=width, height=height)\n",
    "    image = generator.generate_image(rand_str)\n",
    "    return (image,rand_str)\n",
    "\n",
    "# images and labels will be in saved to save_dir folder\n",
    "save_dir = 'training/'\n",
    "labels = {}\n",
    "with open(save_dir + 'labels_training.txt','w') as f:\n",
    "    for i in range(50000):\n",
    "        img, char = generate(140,80,4)\n",
    "        plt.imsave(save_dir+str(i)+\".jpg\",np.array(img))\n",
    "        labels[i]=char\n",
    "        f.write('%s %s\\n' % (i, char))\n"
   ]
  },
  {
   "cell_type": "code",
   "execution_count": 4,
   "metadata": {},
   "outputs": [],
   "source": [
    "import pickle\n",
    "def save_obj(obj, name ):\n",
    "    with open(name + '.pkl', 'wb') as f:\n",
    "        pickle.dump(obj, f, pickle.HIGHEST_PROTOCOL)\n",
    "\n",
    "def load_obj(name):\n",
    "    with open(name + '.pkl', 'rb') as f:\n",
    "        return pickle.load(f)\n",
    "save_obj(labels, 'labels_training')"
   ]
  },
  {
   "cell_type": "code",
   "execution_count": null,
   "metadata": {},
   "outputs": [],
   "source": []
  }
 ],
 "metadata": {
  "kernelspec": {
   "display_name": "Python 3",
   "language": "python",
   "name": "python3"
  },
  "language_info": {
   "codemirror_mode": {
    "name": "ipython",
    "version": 3
   },
   "file_extension": ".py",
   "mimetype": "text/x-python",
   "name": "python",
   "nbconvert_exporter": "python",
   "pygments_lexer": "ipython3",
   "version": "3.5.4"
  }
 },
 "nbformat": 4,
 "nbformat_minor": 2
}
