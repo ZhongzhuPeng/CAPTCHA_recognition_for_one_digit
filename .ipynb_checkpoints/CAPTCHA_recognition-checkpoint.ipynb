{
 "cells": [
  {
   "cell_type": "code",
   "execution_count": 1,
   "metadata": {},
   "outputs": [
    {
     "name": "stdout",
     "output_type": "stream",
     "text": [
      "Populating the interactive namespace from numpy and matplotlib\n"
     ]
    }
   ],
   "source": [
    "%pylab inline"
   ]
  },
  {
   "cell_type": "code",
   "execution_count": 2,
   "metadata": {},
   "outputs": [
    {
     "name": "stderr",
     "output_type": "stream",
     "text": [
      "c:\\users\\zhongzhu\\anaconda3\\envs\\tensorflow\\lib\\site-packages\\h5py\\__init__.py:36: FutureWarning: Conversion of the second argument of issubdtype from `float` to `np.floating` is deprecated. In future, it will be treated as `np.float64 == np.dtype(float).type`.\n",
      "  from ._conv import register_converters as _register_converters\n",
      "Using TensorFlow backend.\n"
     ]
    }
   ],
   "source": [
    "from keras.models import Sequential\n",
    "from keras.layers import Conv2D, MaxPooling2D\n",
    "from keras.layers import Activation, Dropout, Flatten, Dense"
   ]
  },
  {
   "cell_type": "code",
   "execution_count": 3,
   "metadata": {},
   "outputs": [],
   "source": [
    "import pickle\n",
    "def save_obj(obj, name ):\n",
    "    with open(name + '.pkl', 'wb') as f:\n",
    "        pickle.dump(obj, f, pickle.HIGHEST_PROTOCOL)\n",
    "def load_obj(name):\n",
    "    with open(name + '.pkl', 'rb') as f:\n",
    "        return pickle.load(f)"
   ]
  },
  {
   "cell_type": "code",
   "execution_count": 4,
   "metadata": {},
   "outputs": [],
   "source": [
    "import os\n",
    "from keras.preprocessing.image import img_to_array, load_img\n",
    "#from skimage import io\n",
    "#from skimage import color, exposure, transform\n",
    "\n",
    "def get_data(path, labels_pk, digit = 0):\n",
    "    imgs = []\n",
    "    labels = []\n",
    "    lb = load_obj(labels_pk) #a dict of labels\n",
    "\n",
    "    directory = os.fsencode(path)\n",
    "    for file in os.listdir(directory):\n",
    "        filename = os.fsdecode(file)\n",
    "        if filename.endswith(\".jpg\"): \n",
    "            f = (os.path.join(path, filename))\n",
    "            char = lb[int(filename.split('.')[0])][digit].upper() # the first digit of the CAPTCHA\n",
    "            #print(type(char))\n",
    "            label = ord(char)\n",
    "            #label = lb[int(filename.split('.')[0])]\n",
    "            #print(filename + ' ' + char)\n",
    "            img = img_to_array(load_img(f))\n",
    "\n",
    "            img=img.astype('float32')\n",
    "            img -= img.min()\n",
    "            img /= img.max()-img.min()\n",
    "\n",
    "            labels.append(label)\n",
    "            imgs.append(img)\n",
    "\n",
    "    X = np.array(imgs)\n",
    "\n",
    "    Y = np.zeros(len(labels), dtype=np.int)\n",
    "    for i, l in enumerate(labels):\n",
    "        if l < 58:\n",
    "            Y[i] = int(l-48)\n",
    "        else:\n",
    "            Y[i] = int(l-55)\n",
    "    return (X, Y)"
   ]
  },
  {
   "cell_type": "code",
   "execution_count": 5,
   "metadata": {},
   "outputs": [],
   "source": [
    "def model_digit():\n",
    "    model = Sequential()\n",
    "    model.add(Conv2D(32, (3, 3), input_shape=(80, 140, 3)))\n",
    "    model.add(Activation('relu'))\n",
    "    model.add(Conv2D(32, (3, 3)))\n",
    "    model.add(Activation('relu'))\n",
    "    model.add(MaxPooling2D(pool_size=(2, 2)))\n",
    "\n",
    "    model.add(Flatten()) \n",
    "    model.add(Dropout(0.45))\n",
    "    model.add(Dense(36, activation='softmax'))\n",
    "    model.compile(loss='sparse_categorical_crossentropy',\n",
    "                  #optimizer='rmsprop',\n",
    "                  optimizer='adam',\n",
    "                  metrics=['accuracy'])\n",
    "    return model"
   ]
  },
  {
   "cell_type": "code",
   "execution_count": 7,
   "metadata": {
    "scrolled": true
   },
   "outputs": [
    {
     "name": "stderr",
     "output_type": "stream",
     "text": [
      "c:\\users\\zhongzhu\\anaconda3\\envs\\tensorflow\\lib\\site-packages\\ipykernel_launcher.py:12: DeprecationWarning: The Windows bytes API has been deprecated, use Unicode filenames instead\n",
      "  if sys.path[0] == '':\n"
     ]
    },
    {
     "name": "stdout",
     "output_type": "stream",
     "text": [
      "Train on 50000 samples, validate on 1000 samples\n",
      "Epoch 1/25\n",
      " - 125s - loss: 2.0977 - acc: 0.4463 - val_loss: 0.9185 - val_acc: 0.7220\n",
      "Epoch 2/25\n",
      " - 115s - loss: 0.6392 - acc: 0.8056 - val_loss: 0.5014 - val_acc: 0.8440\n",
      "Epoch 3/25\n",
      " - 115s - loss: 0.3418 - acc: 0.8961 - val_loss: 0.3298 - val_acc: 0.8840\n",
      "Epoch 4/25\n",
      " - 124s - loss: 0.2171 - acc: 0.9328 - val_loss: 0.2624 - val_acc: 0.9150\n",
      "Epoch 5/25\n",
      " - 119s - loss: 0.1672 - acc: 0.9485 - val_loss: 0.2200 - val_acc: 0.9230\n",
      "Epoch 6/25\n",
      " - 134s - loss: 0.1269 - acc: 0.9614 - val_loss: 0.2035 - val_acc: 0.9250\n",
      "Epoch 7/25\n",
      " - 112s - loss: 0.1063 - acc: 0.9668 - val_loss: 0.2007 - val_acc: 0.9350\n",
      "Epoch 8/25\n",
      " - 112s - loss: 0.0916 - acc: 0.9707 - val_loss: 0.1970 - val_acc: 0.9350\n",
      "Epoch 9/25\n",
      " - 100s - loss: 0.0781 - acc: 0.9752 - val_loss: 0.2029 - val_acc: 0.9300\n",
      "Epoch 10/25\n",
      " - 100s - loss: 0.0625 - acc: 0.9799 - val_loss: 0.1983 - val_acc: 0.9290\n",
      "Epoch 11/25\n",
      " - 92s - loss: 0.0604 - acc: 0.9808 - val_loss: 0.1850 - val_acc: 0.9360\n",
      "Epoch 12/25\n",
      " - 90s - loss: 0.0508 - acc: 0.9836 - val_loss: 0.2051 - val_acc: 0.9360\n",
      "Epoch 13/25\n",
      " - 92s - loss: 0.0485 - acc: 0.9844 - val_loss: 0.2038 - val_acc: 0.9390\n",
      "Epoch 14/25\n",
      " - 99s - loss: 0.0429 - acc: 0.9859 - val_loss: 0.2196 - val_acc: 0.9300\n",
      "Epoch 15/25\n",
      " - 95s - loss: 0.0387 - acc: 0.9883 - val_loss: 0.2150 - val_acc: 0.9420\n",
      "Epoch 16/25\n",
      " - 98s - loss: 0.0366 - acc: 0.9876 - val_loss: 0.2144 - val_acc: 0.9370\n",
      "Epoch 17/25\n",
      " - 100s - loss: 0.0342 - acc: 0.9886 - val_loss: 0.2213 - val_acc: 0.9400\n",
      "Epoch 18/25\n",
      " - 91s - loss: 0.0396 - acc: 0.9868 - val_loss: 0.2263 - val_acc: 0.9320\n",
      "Epoch 19/25\n",
      " - 91s - loss: 0.0356 - acc: 0.9883 - val_loss: 0.2480 - val_acc: 0.9320\n",
      "Epoch 20/25\n",
      " - 100s - loss: 0.0319 - acc: 0.9892 - val_loss: 0.2252 - val_acc: 0.9350\n",
      "Epoch 21/25\n",
      " - 93s - loss: 0.0265 - acc: 0.9911 - val_loss: 0.2238 - val_acc: 0.9330\n",
      "Epoch 22/25\n",
      " - 93s - loss: 0.0316 - acc: 0.9898 - val_loss: 0.2804 - val_acc: 0.9220\n",
      "Epoch 23/25\n",
      " - 94s - loss: 0.0279 - acc: 0.9907 - val_loss: 0.2251 - val_acc: 0.9420\n",
      "Epoch 24/25\n",
      " - 97s - loss: 0.0332 - acc: 0.9888 - val_loss: 0.3420 - val_acc: 0.9090\n",
      "Epoch 25/25\n",
      " - 91s - loss: 0.0310 - acc: 0.9896 - val_loss: 0.2386 - val_acc: 0.9390\n",
      "1000/1000 [==============================] - 2s 2ms/step\n",
      "test for digit_0\n",
      "[[0.37181845927238466, 0.9099999980926514]]\n",
      "Train on 50000 samples, validate on 1000 samples\n",
      "Epoch 1/25\n",
      " - 87s - loss: 3.2367 - acc: 0.2206 - val_loss: 2.0955 - val_acc: 0.4050\n",
      "Epoch 2/25\n",
      " - 79s - loss: 1.6400 - acc: 0.5377 - val_loss: 1.3684 - val_acc: 0.6120\n",
      "Epoch 3/25\n",
      " - 79s - loss: 1.0763 - acc: 0.6835 - val_loss: 1.0568 - val_acc: 0.6680\n",
      "Epoch 4/25\n",
      " - 85s - loss: 0.7967 - acc: 0.7623 - val_loss: 0.9039 - val_acc: 0.7090\n",
      "Epoch 5/25\n",
      " - 91s - loss: 0.6279 - acc: 0.8102 - val_loss: 0.7899 - val_acc: 0.7650\n",
      "Epoch 6/25\n",
      " - 89s - loss: 0.5162 - acc: 0.8411 - val_loss: 0.7388 - val_acc: 0.7680\n",
      "Epoch 7/25\n",
      " - 92s - loss: 0.4334 - acc: 0.8652 - val_loss: 0.7291 - val_acc: 0.7650\n",
      "Epoch 8/25\n",
      " - 93s - loss: 0.3695 - acc: 0.8825 - val_loss: 0.7010 - val_acc: 0.7920\n",
      "Epoch 9/25\n",
      " - 87s - loss: 0.3282 - acc: 0.8955 - val_loss: 0.6639 - val_acc: 0.7870\n",
      "Epoch 10/25\n",
      " - 91s - loss: 0.2945 - acc: 0.9048 - val_loss: 0.6793 - val_acc: 0.8050\n",
      "Epoch 11/25\n",
      " - 91s - loss: 0.2645 - acc: 0.9144 - val_loss: 0.6893 - val_acc: 0.7910\n",
      "Epoch 12/25\n",
      " - 90s - loss: 0.2396 - acc: 0.9218 - val_loss: 0.6821 - val_acc: 0.7910\n",
      "Epoch 13/25\n",
      " - 100s - loss: 0.2218 - acc: 0.9271 - val_loss: 0.7111 - val_acc: 0.7940\n",
      "Epoch 14/25\n",
      " - 86s - loss: 0.2039 - acc: 0.9327 - val_loss: 0.7052 - val_acc: 0.8030\n",
      "Epoch 15/25\n",
      " - 89s - loss: 0.1927 - acc: 0.9365 - val_loss: 0.7903 - val_acc: 0.7950\n",
      "Epoch 16/25\n",
      " - 82s - loss: 0.1843 - acc: 0.9388 - val_loss: 0.7590 - val_acc: 0.8060\n",
      "Epoch 17/25\n",
      " - 87s - loss: 0.1741 - acc: 0.9414 - val_loss: 0.7226 - val_acc: 0.8030\n",
      "Epoch 18/25\n",
      " - 87s - loss: 0.1579 - acc: 0.9481 - val_loss: 0.7708 - val_acc: 0.8000\n",
      "Epoch 19/25\n",
      " - 92s - loss: 0.1508 - acc: 0.9487 - val_loss: 0.7090 - val_acc: 0.8160\n",
      "Epoch 20/25\n",
      " - 91s - loss: 0.1524 - acc: 0.9485 - val_loss: 0.7189 - val_acc: 0.8190\n",
      "Epoch 21/25\n",
      " - 93s - loss: 0.1417 - acc: 0.9527 - val_loss: 0.7679 - val_acc: 0.8010\n",
      "Epoch 22/25\n",
      " - 89s - loss: 0.1358 - acc: 0.9544 - val_loss: 0.7573 - val_acc: 0.8160\n",
      "Epoch 23/25\n",
      " - 86s - loss: 0.1299 - acc: 0.9563 - val_loss: 0.7647 - val_acc: 0.7990\n",
      "Epoch 24/25\n",
      " - 90s - loss: 0.1231 - acc: 0.9580 - val_loss: 0.7993 - val_acc: 0.7920\n",
      "Epoch 25/25\n",
      " - 86s - loss: 0.1259 - acc: 0.9576 - val_loss: 0.8259 - val_acc: 0.8130\n",
      "1000/1000 [==============================] - 2s 2ms/step\n",
      "test for digit_1\n",
      "[[0.37181845927238466, 0.9099999980926514], [0.8688957438468933, 0.7939999976158142]]\n",
      "Train on 50000 samples, validate on 1000 samples\n",
      "Epoch 1/25\n",
      " - 84s - loss: 3.0797 - acc: 0.1829 - val_loss: 2.3724 - val_acc: 0.3430\n",
      "Epoch 2/25\n",
      " - 88s - loss: 1.8936 - acc: 0.4750 - val_loss: 1.6483 - val_acc: 0.5290\n",
      "Epoch 3/25\n",
      " - 87s - loss: 1.2805 - acc: 0.6408 - val_loss: 1.3199 - val_acc: 0.6340\n",
      "Epoch 4/25\n",
      " - 89s - loss: 0.9665 - acc: 0.7265 - val_loss: 1.1928 - val_acc: 0.6770\n",
      "Epoch 5/25\n",
      " - 90s - loss: 0.8018 - acc: 0.7693 - val_loss: 1.1613 - val_acc: 0.6830\n",
      "Epoch 6/25\n",
      " - 99s - loss: 0.6804 - acc: 0.7998 - val_loss: 1.1185 - val_acc: 0.6880\n",
      "Epoch 7/25\n",
      " - 119s - loss: 0.5999 - acc: 0.8192 - val_loss: 1.0859 - val_acc: 0.7030\n",
      "Epoch 8/25\n",
      " - 115s - loss: 0.5203 - acc: 0.8416 - val_loss: 1.1267 - val_acc: 0.6910\n",
      "Epoch 9/25\n",
      " - 111s - loss: 0.4643 - acc: 0.8570 - val_loss: 1.0761 - val_acc: 0.7130\n",
      "Epoch 10/25\n",
      " - 99s - loss: 0.4185 - acc: 0.8676 - val_loss: 1.1685 - val_acc: 0.6920\n",
      "Epoch 11/25\n",
      " - 115s - loss: 0.3852 - acc: 0.8793 - val_loss: 1.1012 - val_acc: 0.7150\n",
      "Epoch 12/25\n",
      " - 105s - loss: 0.3546 - acc: 0.8867 - val_loss: 1.1415 - val_acc: 0.7130\n",
      "Epoch 13/25\n",
      " - 99s - loss: 0.3330 - acc: 0.8939 - val_loss: 1.1481 - val_acc: 0.6980\n",
      "Epoch 14/25\n",
      " - 102s - loss: 0.3078 - acc: 0.9002 - val_loss: 1.1866 - val_acc: 0.7020\n",
      "Epoch 15/25\n",
      " - 99s - loss: 0.2847 - acc: 0.9067 - val_loss: 1.1908 - val_acc: 0.7290\n",
      "Epoch 16/25\n",
      " - 95s - loss: 0.2627 - acc: 0.9153 - val_loss: 1.2203 - val_acc: 0.7220\n",
      "Epoch 17/25\n",
      " - 102s - loss: 0.2560 - acc: 0.9166 - val_loss: 1.2525 - val_acc: 0.7070\n",
      "Epoch 18/25\n",
      " - 104s - loss: 0.2439 - acc: 0.9199 - val_loss: 1.2562 - val_acc: 0.7030\n",
      "Epoch 19/25\n",
      " - 103s - loss: 0.2292 - acc: 0.9252 - val_loss: 1.2602 - val_acc: 0.7070\n",
      "Epoch 20/25\n",
      " - 103s - loss: 0.2240 - acc: 0.9259 - val_loss: 1.2505 - val_acc: 0.7030\n",
      "Epoch 21/25\n",
      " - 96s - loss: 0.2080 - acc: 0.9304 - val_loss: 1.2615 - val_acc: 0.7030\n",
      "Epoch 22/25\n",
      " - 82s - loss: 0.2085 - acc: 0.9311 - val_loss: 1.2327 - val_acc: 0.7090\n",
      "Epoch 23/25\n",
      " - 80s - loss: 0.2095 - acc: 0.9304 - val_loss: 1.2975 - val_acc: 0.7080\n",
      "Epoch 24/25\n",
      " - 95s - loss: 0.2013 - acc: 0.9335 - val_loss: 1.3069 - val_acc: 0.7160\n",
      "Epoch 25/25\n",
      " - 96s - loss: 0.1882 - acc: 0.9372 - val_loss: 1.2652 - val_acc: 0.7040\n",
      "1000/1000 [==============================] - 1s 1ms/step\n",
      "test for digit_2\n",
      "[[0.37181845927238466, 0.9099999980926514], [0.8688957438468933, 0.7939999976158142], [1.2078777799606324, 0.7119999980926514]]\n",
      "Train on 50000 samples, validate on 1000 samples\n",
      "Epoch 1/25\n",
      " - 96s - loss: 4.0761 - acc: 0.1277 - val_loss: 2.5612 - val_acc: 0.3140\n",
      "Epoch 2/25\n",
      " - 99s - loss: 2.1643 - acc: 0.4014 - val_loss: 1.9206 - val_acc: 0.4660\n",
      "Epoch 3/25\n",
      " - 115s - loss: 1.6218 - acc: 0.5449 - val_loss: 1.5488 - val_acc: 0.5730\n",
      "Epoch 4/25\n",
      " - 174s - loss: 1.2928 - acc: 0.6306 - val_loss: 1.2892 - val_acc: 0.6460\n",
      "Epoch 5/25\n",
      " - 103s - loss: 1.0850 - acc: 0.6852 - val_loss: 1.1559 - val_acc: 0.6670\n",
      "Epoch 6/25\n",
      " - 93s - loss: 0.9239 - acc: 0.7263 - val_loss: 1.0820 - val_acc: 0.6810\n",
      "Epoch 7/25\n",
      " - 94s - loss: 0.7944 - acc: 0.7613 - val_loss: 1.0263 - val_acc: 0.6990\n",
      "Epoch 8/25\n",
      " - 97s - loss: 0.6897 - acc: 0.7909 - val_loss: 0.9741 - val_acc: 0.7070\n",
      "Epoch 9/25\n",
      " - 105s - loss: 0.6169 - acc: 0.8121 - val_loss: 1.0048 - val_acc: 0.7030\n",
      "Epoch 10/25\n",
      " - 83s - loss: 0.5608 - acc: 0.8257 - val_loss: 0.9553 - val_acc: 0.7260\n",
      "Epoch 11/25\n",
      " - 82s - loss: 0.4853 - acc: 0.8498 - val_loss: 0.9066 - val_acc: 0.7380\n",
      "Epoch 12/25\n",
      " - 81s - loss: 0.4074 - acc: 0.8729 - val_loss: 0.9439 - val_acc: 0.7350\n",
      "Epoch 13/25\n",
      " - 96s - loss: 0.3431 - acc: 0.8912 - val_loss: 0.9462 - val_acc: 0.7160\n",
      "Epoch 14/25\n",
      " - 94s - loss: 0.3062 - acc: 0.9030 - val_loss: 0.9303 - val_acc: 0.7350\n"
     ]
    },
    {
     "name": "stdout",
     "output_type": "stream",
     "text": [
      "Epoch 15/25\n",
      " - 95s - loss: 0.2686 - acc: 0.9133 - val_loss: 0.9496 - val_acc: 0.7270\n",
      "Epoch 16/25\n",
      " - 92s - loss: 0.2410 - acc: 0.9234 - val_loss: 0.9766 - val_acc: 0.7290\n",
      "Epoch 17/25\n",
      " - 95s - loss: 0.2215 - acc: 0.9295 - val_loss: 1.0012 - val_acc: 0.7340\n",
      "Epoch 18/25\n",
      " - 93s - loss: 0.2073 - acc: 0.9331 - val_loss: 1.0185 - val_acc: 0.7410\n",
      "Epoch 19/25\n",
      " - 95s - loss: 0.1872 - acc: 0.9401 - val_loss: 0.9927 - val_acc: 0.7430\n",
      "Epoch 20/25\n",
      " - 80s - loss: 0.1816 - acc: 0.9403 - val_loss: 1.0333 - val_acc: 0.7400\n",
      "Epoch 21/25\n",
      " - 81s - loss: 0.1734 - acc: 0.9442 - val_loss: 1.0587 - val_acc: 0.7440\n",
      "Epoch 22/25\n",
      " - 92s - loss: 0.1649 - acc: 0.9459 - val_loss: 1.0604 - val_acc: 0.7370\n",
      "Epoch 23/25\n",
      " - 94s - loss: 0.1508 - acc: 0.9508 - val_loss: 1.0595 - val_acc: 0.7420\n",
      "Epoch 24/25\n",
      " - 91s - loss: 0.1405 - acc: 0.9539 - val_loss: 1.0366 - val_acc: 0.7420\n",
      "Epoch 25/25\n",
      " - 109s - loss: 0.1372 - acc: 0.9544 - val_loss: 0.9787 - val_acc: 0.7480\n",
      "1000/1000 [==============================] - 1s 1ms/step\n",
      "test for digit_3\n",
      "[[0.37181845927238466, 0.9099999980926514], [0.8688957438468933, 0.7939999976158142], [1.2078777799606324, 0.7119999980926514], [0.9719334664344788, 0.7370000014305115]]\n"
     ]
    }
   ],
   "source": [
    "models = []\n",
    "history = []\n",
    "test_res = []\n",
    "for i in range(4):\n",
    "    X_train, Y_train = get_data('training/', 'labels_training', digit = i)\n",
    "    X_val, Y_val = get_data('validation/', 'labels_validation', digit = i)\n",
    "    X_test, Y_test = get_data('test/', 'labels_test', digit = i)\n",
    "    model = model_digit()\n",
    "    models.append(model)\n",
    "    h = model.fit(X_train, Y_train, validation_data=(X_val, Y_val),  epochs=25, batch_size=256, verbose = 2)\n",
    "    history.append(h)\n",
    "    t = model.evaluate(X_test, Y_test, batch_size=128)\n",
    "    test_res.append(t)\n",
    "    print('test for digit_'+str(i))\n",
    "    print(test_res)"
   ]
  },
  {
   "cell_type": "code",
   "execution_count": 8,
   "metadata": {},
   "outputs": [
    {
     "name": "stdout",
     "output_type": "stream",
     "text": [
      "0.9911 0.942000006198883 22\n",
      "0.95798 0.8190000014305114 19\n",
      "0.937240000038147 0.7289999980926514 14\n",
      "0.95444 0.7479999933242798 24\n"
     ]
    },
    {
     "data": {
      "image/png": "[encoded data removed]",
      "text/plain": [
       "<matplotlib.figure.Figure at 0x1b1e1e2cd68>"
      ]
     },
     "metadata": {},
     "output_type": "display_data"
    }
   ],
   "source": [
    "for h in history:\n",
    "    pt = h.history['acc']\n",
    "    pv = h.history['val_acc']\n",
    "    plot(pt[2:], 'r')\n",
    "    plot(pv[2:], 'g')\n",
    "    print(np.max(pt), np.max(pv), np.argmax(pv)) "
   ]
  },
  {
   "cell_type": "code",
   "execution_count": 11,
   "metadata": {},
   "outputs": [],
   "source": [
    "for i, model in enumerate(models):\n",
    "    model.save('model_'+str(i))"
   ]
  },
  {
   "cell_type": "code",
   "execution_count": null,
   "metadata": {},
   "outputs": [],
   "source": []
  },
  {
   "cell_type": "code",
   "execution_count": 9,
   "metadata": {},
   "outputs": [
    {
     "data": {
      "text/plain": [
       "<matplotlib.image.AxesImage at 0x1654271bb70>"
      ]
     },
     "execution_count": 9,
     "metadata": {},
     "output_type": "execute_result"
    },
    {
     "data": {
      "image/png": "[encoded data removed]",
      "text/plain": [
       "<matplotlib.figure.Figure at 0x16234ea7a90>"
      ]
     },
     "metadata": {},
     "output_type": "display_data"
    }
   ],
   "source": [
    "imshow(X_train[3], cmap=cm.gray, interpolation='none')"
   ]
  },
  {
   "cell_type": "code",
   "execution_count": 7,
   "metadata": {},
   "outputs": [
    {
     "name": "stderr",
     "output_type": "stream",
     "text": [
      "c:\\users\\zhongzhu\\anaconda3\\envs\\tensorflow\\lib\\site-packages\\ipykernel_launcher.py:12: DeprecationWarning: The Windows bytes API has been deprecated, use Unicode filenames instead\n",
      "  if sys.path[0] == '':\n"
     ]
    }
   ],
   "source": [
    "X_train, Y_train = get_data('training/', 'labels_training')\n",
    "X_val, Y_val = get_data('validation/', 'labels_validation')\n",
    "X_test, Y_test = get_data('test/', 'labels_test')"
   ]
  },
  {
   "cell_type": "code",
   "execution_count": 11,
   "metadata": {
    "scrolled": true
   },
   "outputs": [
    {
     "name": "stdout",
     "output_type": "stream",
     "text": [
      "Train on 50000 samples, validate on 1000 samples\n",
      "Epoch 1/25\n",
      " - 210s - loss: 2.4149 - acc: 0.4072 - val_loss: 1.0026 - val_acc: 0.7170\n",
      "Epoch 2/25\n",
      " - 121s - loss: 0.7480 - acc: 0.7733 - val_loss: 0.6184 - val_acc: 0.8190\n",
      "Epoch 3/25\n",
      " - 109s - loss: 0.4094 - acc: 0.8752 - val_loss: 0.3546 - val_acc: 0.8880\n",
      "Epoch 4/25\n",
      " - 114s - loss: 0.2511 - acc: 0.9218 - val_loss: 0.2839 - val_acc: 0.9040\n",
      "Epoch 5/25\n",
      " - 133s - loss: 0.1841 - acc: 0.9416 - val_loss: 0.2567 - val_acc: 0.9120\n",
      "Epoch 6/25\n",
      " - 116s - loss: 0.1417 - acc: 0.9558 - val_loss: 0.2240 - val_acc: 0.9250\n",
      "Epoch 7/25\n",
      " - 121s - loss: 0.1167 - acc: 0.9638 - val_loss: 0.2143 - val_acc: 0.9280\n",
      "Epoch 8/25\n",
      " - 114s - loss: 0.1014 - acc: 0.9673 - val_loss: 0.1894 - val_acc: 0.9380\n",
      "Epoch 9/25\n",
      " - 102s - loss: 0.0836 - acc: 0.9736 - val_loss: 0.1925 - val_acc: 0.9400\n",
      "Epoch 10/25\n",
      " - 108s - loss: 0.0720 - acc: 0.9773 - val_loss: 0.1804 - val_acc: 0.9350\n",
      "Epoch 11/25\n",
      " - 102s - loss: 0.0678 - acc: 0.9784 - val_loss: 0.1745 - val_acc: 0.9440\n",
      "Epoch 12/25\n",
      " - 83s - loss: 0.0619 - acc: 0.9797 - val_loss: 0.1774 - val_acc: 0.9400\n",
      "Epoch 13/25\n",
      " - 83s - loss: 0.0580 - acc: 0.9810 - val_loss: 0.1840 - val_acc: 0.9460\n",
      "Epoch 14/25\n",
      " - 88s - loss: 0.0571 - acc: 0.9809 - val_loss: 0.2006 - val_acc: 0.9420\n",
      "Epoch 15/25\n",
      " - 94s - loss: 0.0518 - acc: 0.9832 - val_loss: 0.1847 - val_acc: 0.9450\n",
      "Epoch 16/25\n",
      " - 103s - loss: 0.0475 - acc: 0.9847 - val_loss: 0.2109 - val_acc: 0.9380\n",
      "Epoch 17/25\n",
      " - 109s - loss: 0.0426 - acc: 0.9862 - val_loss: 0.1928 - val_acc: 0.9410\n",
      "Epoch 18/25\n",
      " - 108s - loss: 0.0378 - acc: 0.9878 - val_loss: 0.1542 - val_acc: 0.9480\n",
      "Epoch 19/25\n",
      " - 102s - loss: 0.0428 - acc: 0.9858 - val_loss: 0.1728 - val_acc: 0.9470\n",
      "Epoch 20/25\n",
      " - 97s - loss: 0.0382 - acc: 0.9869 - val_loss: 0.1724 - val_acc: 0.9420\n",
      "Epoch 21/25\n",
      " - 105s - loss: 0.0396 - acc: 0.9871 - val_loss: 0.1421 - val_acc: 0.9490\n",
      "Epoch 22/25\n",
      " - 106s - loss: 0.0415 - acc: 0.9859 - val_loss: 0.2147 - val_acc: 0.9340\n",
      "Epoch 23/25\n",
      " - 108s - loss: 0.0338 - acc: 0.9886 - val_loss: 0.1880 - val_acc: 0.9470\n",
      "Epoch 24/25\n",
      " - 105s - loss: 0.0328 - acc: 0.9891 - val_loss: 0.1807 - val_acc: 0.9430\n",
      "Epoch 25/25\n",
      " - 104s - loss: 0.0299 - acc: 0.9905 - val_loss: 0.2173 - val_acc: 0.9380\n"
     ]
    }
   ],
   "source": [
    "h = model.fit(X_train, Y_train, validation_data=(X_val, Y_val),  epochs=25, batch_size=256, verbose=2)"
   ]
  },
  {
   "cell_type": "code",
   "execution_count": 12,
   "metadata": {
    "scrolled": true
   },
   "outputs": [
    {
     "name": "stdout",
     "output_type": "stream",
     "text": [
      "0.99052 0.9489999957084656 20\n"
     ]
    },
    {
     "data": {
      "image/png": "[encoded data removed]",
      "text/plain": [
       "<matplotlib.figure.Figure at 0x16234ed14a8>"
      ]
     },
     "metadata": {},
     "output_type": "display_data"
    }
   ],
   "source": [
    "pt = h.history['acc']\n",
    "pv = h.history['val_acc']\n",
    "plot(pt[2:], 'r')\n",
    "plot(pv[2:], 'g')\n",
    "print(np.max(pt), np.max(pv), np.argmax(pv))"
   ]
  },
  {
   "cell_type": "code",
   "execution_count": 13,
   "metadata": {},
   "outputs": [
    {
     "name": "stdout",
     "output_type": "stream",
     "text": [
      "1000/1000 [==============================] - 2s 2ms/step\n"
     ]
    }
   ],
   "source": [
    "test_res = model.evaluate(X_test, Y_test, batch_size=128, verbose=1)"
   ]
  },
  {
   "cell_type": "code",
   "execution_count": 14,
   "metadata": {},
   "outputs": [
    {
     "name": "stdout",
     "output_type": "stream",
     "text": [
      "[0.28886448407173154, 0.9270000019073487]\n"
     ]
    }
   ],
   "source": [
    "print(test_res)"
   ]
  },
  {
   "cell_type": "code",
   "execution_count": 15,
   "metadata": {},
   "outputs": [
    {
     "name": "stdout",
     "output_type": "stream",
     "text": [
      "1000/1000 [==============================] - 1s 1ms/step\n"
     ]
    }
   ],
   "source": [
    "predict_res = model.predict(X_test, batch_size=128, verbose=1)"
   ]
  },
  {
   "cell_type": "code",
   "execution_count": 16,
   "metadata": {},
   "outputs": [
    {
     "name": "stdout",
     "output_type": "stream",
     "text": [
      "[1.3491395e-19 5.6411047e-22 1.3888583e-18 2.2547237e-28 8.8422421e-34\n",
      " 4.7357588e-29 7.0878043e-27 1.3176762e-18 1.1084279e-24 7.7843447e-11\n",
      " 1.3044157e-14 2.8611254e-17 3.6439423e-26 1.0583637e-16 3.6006127e-17\n",
      " 1.9687181e-09 2.2955164e-18 1.0214970e-18 7.8355082e-31 2.6588638e-35\n",
      " 1.8573161e-16 2.6720170e-23 8.8991388e-16 6.8177286e-20 3.0721637e-17\n",
      " 1.0000000e+00 6.6822700e-19 3.3004635e-08 1.2935473e-24 5.5735876e-18\n",
      " 1.4564056e-25 6.9326344e-25 1.8586244e-19 7.1209557e-25 2.8723092e-27\n",
      " 1.2293627e-25] 25\n"
     ]
    }
   ],
   "source": [
    "print(predict_res[0], Y_test[0])"
   ]
  },
  {
   "cell_type": "code",
   "execution_count": 5,
   "metadata": {},
   "outputs": [],
   "source": [
    "model.save('model_first_digit')  # creates a HDF5 file"
   ]
  },
  {
   "cell_type": "code",
   "execution_count": 6,
   "metadata": {},
   "outputs": [],
   "source": [
    "from keras.models import load_model\n",
    "temp = load_model('model_first_digit')"
   ]
  },
  {
   "cell_type": "code",
   "execution_count": null,
   "metadata": {},
   "outputs": [],
   "source": []
  }
 ],
 "metadata": {
  "kernelspec": {
   "display_name": "Python 3",
   "language": "python",
   "name": "python3"
  },
  "language_info": {
   "codemirror_mode": {
    "name": "ipython",
    "version": 3
   },
   "file_extension": ".py",
   "mimetype": "text/x-python",
   "name": "python",
   "nbconvert_exporter": "python",
   "pygments_lexer": "ipython3",
   "version": "3.5.4"
  }
 },
 "nbformat": 4,
 "nbformat_minor": 2
}
