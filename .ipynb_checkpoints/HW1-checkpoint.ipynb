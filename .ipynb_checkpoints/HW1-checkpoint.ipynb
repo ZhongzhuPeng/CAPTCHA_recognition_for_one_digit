{
 "cells": [
  {
   "cell_type": "code",
   "execution_count": 1,
   "metadata": {},
   "outputs": [
    {
     "name": "stdout",
     "output_type": "stream",
     "text": [
      "Populating the interactive namespace from numpy and matplotlib\n"
     ]
    }
   ],
   "source": [
    "%pylab inline"
   ]
  },
  {
   "cell_type": "code",
   "execution_count": 2,
   "metadata": {},
   "outputs": [
    {
     "name": "stderr",
     "output_type": "stream",
     "text": [
      "Using TensorFlow backend.\n"
     ]
    }
   ],
   "source": [
    "import numpy as np\n",
    "from keras.models import Sequential\n",
    "from keras.layers import Dense, Activation"
   ]
  },
  {
   "cell_type": "markdown",
   "metadata": {},
   "source": [
    "### Load data\n",
    "Load the (handwriting) digits data. There are 3 sets of data: train, valid, and test. Each set is a tuple with set[0] the data and set[1] the label. "
   ]
  },
  {
   "cell_type": "code",
   "execution_count": 3,
   "metadata": {},
   "outputs": [],
   "source": [
    "import _pickle as cPickle\n",
    "import gzip\n",
    "f = gzip.open('mnist.pkl.gz', 'rb')\n",
    "train_set, valid_set, test_set = cPickle.load(f,encoding='latin1')\n",
    "f.close()"
   ]
  },
  {
   "cell_type": "code",
   "execution_count": 4,
   "metadata": {},
   "outputs": [
    {
     "name": "stdout",
     "output_type": "stream",
     "text": [
      "(50000, 784) (10000, 784) (10000, 784)\n"
     ]
    }
   ],
   "source": [
    "print(train_set[0].shape, valid_set[0].shape, test_set[0].shape)\n",
    "img_dim = train_set[0].shape[1]\n",
    "n_class = 10  ## There are 10 clases: digits 0-9"
   ]
  },
  {
   "cell_type": "markdown",
   "metadata": {},
   "source": [
    "### Visualize data\n",
    "Plot some of the digits images"
   ]
  },
  {
   "cell_type": "code",
   "execution_count": 5,
   "metadata": {},
   "outputs": [
    {
     "name": "stdout",
     "output_type": "stream",
     "text": [
      "1\n"
     ]
    },
    {
     "data": {
      "image/png": "[encoded data removed]",
      "text/plain": [
       "<matplotlib.figure.Figure at 0x107476106a0>"
      ]
     },
     "metadata": {},
     "output_type": "display_data"
    }
   ],
   "source": [
    "i = 70\n",
    "imshow(train_set[0][i].reshape((28, 28)), cmap=cm.gray, interpolation='none')\n",
    "print(train_set[1][i])"
   ]
  },
  {
   "cell_type": "markdown",
   "metadata": {},
   "source": [
    "### Define the neural network model"
   ]
  },
  {
   "cell_type": "code",
   "execution_count": 6,
   "metadata": {
    "collapsed": true
   },
   "outputs": [],
   "source": [
    "model = Sequential()\n",
    "model.add(Dense(100, activation='sigmoid', input_dim=img_dim))\n",
    "model.add(Dense(n_class, activation='softmax'))\n",
    "model.compile(loss='sparse_categorical_crossentropy', optimizer='adam', metrics=['accuracy'])"
   ]
  },
  {
   "cell_type": "markdown",
   "metadata": {},
   "source": [
    "### Train the model, using validation data to determine when to stop"
   ]
  },
  {
   "cell_type": "code",
   "execution_count": 7,
   "metadata": {},
   "outputs": [
    {
     "name": "stderr",
     "output_type": "stream",
     "text": [
      "C:\\Users\\zhongzhu\\Anaconda3\\lib\\site-packages\\keras\\models.py:939: UserWarning: The `nb_epoch` argument in `fit` has been renamed `epochs`.\n",
      "  warnings.warn('The `nb_epoch` argument in `fit` '\n"
     ]
    }
   ],
   "source": [
    "h = model.fit(train_set[0], train_set[1], batch_size=128, nb_epoch=50, verbose=0,\n",
    "              validation_data=(valid_set[0], valid_set[1]))"
   ]
  },
  {
   "cell_type": "code",
   "execution_count": 8,
   "metadata": {},
   "outputs": [
    {
     "name": "stdout",
     "output_type": "stream",
     "text": [
      "0.99998 0.9774 45\n"
     ]
    },
    {
     "data": {
      "image/png": "[encoded data removed]",
      "text/plain": [
       "<matplotlib.figure.Figure at 0x10753f05048>"
      ]
     },
     "metadata": {},
     "output_type": "display_data"
    }
   ],
   "source": [
    "pt = h.history['acc']\n",
    "pv = h.history['val_acc']\n",
    "plot(pt[2:], 'r')\n",
    "plot(pv[2:], 'g')\n",
    "print(np.max(pt), np.max(pv), np.argmax(pv))"
   ]
  },
  {
   "cell_type": "markdown",
   "metadata": {},
   "source": [
    "### Calculate performance on the test data"
   ]
  },
  {
   "cell_type": "code",
   "execution_count": 10,
   "metadata": {},
   "outputs": [
    {
     "name": "stdout",
     "output_type": "stream",
     "text": [
      "0.9778\n"
     ]
    }
   ],
   "source": [
    "pp = model.predict(test_set[0], batch_size=128)\n",
    "test_acc = np.sum(((np.argmax(pp, axis=1)-test_set[1])==0).astype(float))/len(pp)\n",
    "print(test_acc)"
   ]
  },
  {
   "cell_type": "markdown",
   "metadata": {},
   "source": [
    "## HW 1\n",
    "### Due Friday, Feb. 10th by the end of day. Submit your ipython notebook in moodle. Your notebook must contain both your code and the results of the experiments. You must clearly mark the plot/result sections."
   ]
  },
  {
   "cell_type": "markdown",
   "metadata": {},
   "source": [
    "### Task 1\n",
    "The example given above used a 2-layered NN (one internal layer and one output layer). Try increase the number of neurons in the internal layer. Experiment with 200, 500, 1000. (If your computer is powerful enough, you can go higher.) \n",
    "- Plot the training accuracy vs number of internal neurons. (You need to train the model enough epoches so that the training accuracy converges (or almost converges). Use the (almost) converged value in your plot. \n",
    "- Plot number of epoches it takes for the training acc to reaches 0.99 vs number of internal-layer neurons. \n",
    "- Plot the best test accuracy you can achieve vs number of internal-layer neurons. (Note the best test acc may be achieved before train acc reaches the best value.)\n",
    "- What are the trends you observe in these plots? Comment on your observations. "
   ]
  },
  {
   "cell_type": "markdown",
   "metadata": {},
   "source": [
    "### Task 2\n",
    "Add more (internal) layers to the model, fix the number of neurons in each layer to be 100. Experiment with 3, 5, 10 internal layers. (If your computer is powerful enough, you can go higher.) \n",
    "- Plot the training accuracy vs number of internal layerss.  \n",
    "- Plot the best test accuracy you can achieve vs number of internal layers.\n",
    "- What are the trends you observe in these plots? Comment on your observations. "
   ]
  },
  {
   "cell_type": "markdown",
   "metadata": {},
   "source": [
    "### Task 3\n",
    "Explore different activation function for the neurons in the internal layers. Fix the model to have 3 internal layers, each with 100 neurons. Experiment with 'sigmoid',\n",
    "'tanh', and 'relu' as activation function for the internal neurons. \n",
    "- Time your training. Bar plot time (in sec) it takes to run 30 epoches of training under different activation.  \n",
    "- Bar plot the best test accuracy you can achieve with respect to different activation.\n",
    "- What are the trends you observe in these plots? Comment on your observations. "
   ]
  },
  {
   "cell_type": "code",
   "execution_count": null,
   "metadata": {
    "collapsed": true
   },
   "outputs": [],
   "source": []
  },
  {
   "cell_type": "code",
   "execution_count": null,
   "metadata": {
    "collapsed": true
   },
   "outputs": [],
   "source": []
  }
 ],
 "metadata": {
  "kernelspec": {
   "display_name": "Python 3",
   "language": "python",
   "name": "python3"
  },
  "language_info": {
   "codemirror_mode": {
    "name": "ipython",
    "version": 3
   },
   "file_extension": ".py",
   "mimetype": "text/x-python",
   "name": "python",
   "nbconvert_exporter": "python",
   "pygments_lexer": "ipython3",
   "version": "3.6.1"
  }
 },
 "nbformat": 4,
 "nbformat_minor": 1
}
